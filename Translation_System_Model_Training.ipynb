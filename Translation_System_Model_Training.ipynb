{
  "cells": [
    {
      "cell_type": "markdown",
      "metadata": {
        "id": "y2A8pmOHDex9"
      },
      "source": [
        " 1. Set Up Environment"
      ]
    },
    {
      "cell_type": "code",
      "execution_count": null,
      "metadata": {
        "colab": {
          "base_uri": "https://localhost:8080/"
        },
        "id": "WLrnlf8DDIJG",
        "outputId": "f7ac44c9-9b48-45d5-e48e-1f92719ea087"
      },
      "outputs": [
        {
          "ename": "SyntaxError",
          "evalue": "invalid syntax (1025102358.py, line 6)",
          "output_type": "error",
          "traceback": [
            "  \u001b[36mCell\u001b[39m\u001b[36m \u001b[39m\u001b[32mIn[2]\u001b[39m\u001b[32m, line 6\u001b[39m\n\u001b[31m    \u001b[39m\u001b[31mpip install OpenNMT-py\u001b[39m\n        ^\n\u001b[31mSyntaxError\u001b[39m\u001b[31m:\u001b[39m invalid syntax\n"
          ]
        }
      ],
      "source": [
        "# Create and activate virtual environment\n",
        "# python3 -m venv env\n",
        "# source env/bin/activate\n",
        "\n",
        "# Install OpenNMT-py\n",
        "# pip install OpenNMT-py\n"
      ]
    },
    {
      "cell_type": "markdown",
      "metadata": {
        "id": "D_Szx9hIDkY7"
      },
      "source": [
        "2. Get and Prepare Parallel Data\n",
        "  \n",
        "  Use JW300 as an example."
      ]
    },
    {
      "cell_type": "code",
      "execution_count": null,
      "metadata": {
        "id": "4R3cmUlzDtgr"
      },
      "outputs": [],
      "source": [
        "# Install opus-tools to download datasets\n",
        "sudo apt install opus-tools\n",
        "\n",
        "# Download JW300 English-Zulu parallel corpus\n",
        "opus_get JW300 -s en -t zu -dl JW300_en_zu\n"
      ]
    },
    {
      "cell_type": "markdown",
      "metadata": {
        "id": "IH8Aep2aDwz0"
      },
      "source": [
        "Clean and format the data:"
      ]
    },
    {
      "cell_type": "code",
      "execution_count": null,
      "metadata": {
        "id": "U5APrAkID2BT"
      },
      "outputs": [],
      "source": [
        "# Assuming data is in JW300_en_zu/\n",
        "# Create cleaned source and target files\n",
        "cut -f1 JW300_en_zu/JW300.en-zu.en > train.en\n",
        "cut -f2 JW300_en_zu/JW300.en-zu.zu > train.zu\n"
      ]
    },
    {
      "cell_type": "markdown",
      "metadata": {
        "id": "H7Izk190D5pL"
      },
      "source": [
        "You should also create a small validation set:"
      ]
    },
    {
      "cell_type": "code",
      "execution_count": null,
      "metadata": {
        "id": "WDeyMwwXD8gC"
      },
      "outputs": [],
      "source": [
        "head -n 500 train.en > valid.en\n",
        "head -n 500 train.zu > valid.zu\n",
        "tail -n +501 train.en > train_clean.en\n",
        "tail -n +501 train.zu > train_clean.zu\n"
      ]
    },
    {
      "cell_type": "markdown",
      "metadata": {
        "id": "Vq7N8O73D-gT"
      },
      "source": [
        "Preprocess the Data"
      ]
    },
    {
      "cell_type": "code",
      "execution_count": null,
      "metadata": {
        "id": "BF_ImC9eEEAr"
      },
      "outputs": [],
      "source": [
        "onmt_preprocess \\\n",
        "  -train_src train_clean.en \\\n",
        "  -train_tgt train_clean.zu \\\n",
        "  -valid_src valid.en \\\n",
        "  -valid_tgt valid.zu \\\n",
        "  -save_data data/jw300 \\\n",
        "  -src_seq_length 100 \\\n",
        "  -tgt_seq_length 100 \\\n",
        "  -share_vocab \\\n",
        "  -src_vocab_size 16000 \\\n",
        "  -tgt_vocab_size 16000\n"
      ]
    },
    {
      "cell_type": "markdown",
      "metadata": {
        "id": "EiJfOPPaEFkT"
      },
      "source": [
        " 4. Train the Model"
      ]
    },
    {
      "cell_type": "code",
      "execution_count": null,
      "metadata": {
        "id": "GwK65pQZEIQT"
      },
      "outputs": [],
      "source": [
        "onmt_train \\\n",
        "  -data data/jw300 \\\n",
        "  -save_model models/en2zu \\\n",
        "  -world_size 1 \\\n",
        "  -gpu_ranks 0 \\\n",
        "  -train_steps 10000 \\\n",
        "  -valid_steps 1000 \\\n",
        "  -batch_size 64\n"
      ]
    },
    {
      "cell_type": "markdown",
      "metadata": {
        "id": "bbh02hdPEKkz"
      },
      "source": [
        "Translate with the Trained Model"
      ]
    },
    {
      "cell_type": "code",
      "execution_count": null,
      "metadata": {
        "id": "siuAQ9GIET4O"
      },
      "outputs": [],
      "source": [
        "echo \"This is a book.\" > src.txt\n",
        "\n",
        "onmt_translate \\\n",
        "  -model models/en2zu_step_10000.pt \\\n",
        "  -src src.txt \\\n",
        "  -output pred.txt \\\n",
        "  -gpu 0\n"
      ]
    },
    {
      "cell_type": "markdown",
      "metadata": {
        "id": "0Zn2K4vREX4D"
      },
      "source": [
        "6. Evaluate\n",
        "\n",
        "  Install BLEU scorer:"
      ]
    },
    {
      "cell_type": "code",
      "execution_count": null,
      "metadata": {
        "id": "yZYlJ_9fEc5b"
      },
      "outputs": [],
      "source": [
        "pip install sacrebleu\n",
        "\n",
        "# Reference: valid.zu\n",
        "# Prediction: pred.txt\n",
        "sacrebleu valid.zu -i pred.txt -m bleu\n"
      ]
    }
  ],
  "metadata": {
    "colab": {
      "provenance": []
    },
    "kernelspec": {
      "display_name": ".venv",
      "language": "python",
      "name": "python3"
    },
    "language_info": {
      "codemirror_mode": {
        "name": "ipython",
        "version": 3
      },
      "file_extension": ".py",
      "mimetype": "text/x-python",
      "name": "python",
      "nbconvert_exporter": "python",
      "pygments_lexer": "ipython3",
      "version": "3.12.1"
    }
  },
  "nbformat": 4,
  "nbformat_minor": 0
}
